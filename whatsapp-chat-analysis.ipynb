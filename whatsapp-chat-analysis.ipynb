{
 "cells": [
  {
   "cell_type": "markdown",
   "metadata": {
    "papermill": {
     "duration": 0.017862,
     "end_time": "2020-09-28T20:54:08.758040",
     "exception": false,
     "start_time": "2020-09-28T20:54:08.740178",
     "status": "completed"
    },
    "tags": []
   },
   "source": [
    "# Created by Yash Arora"
   ]
  },
  {
   "cell_type": "markdown",
   "metadata": {
    "papermill": {
     "duration": 0.01635,
     "end_time": "2020-09-28T20:54:08.791268",
     "exception": false,
     "start_time": "2020-09-28T20:54:08.774918",
     "status": "completed"
    },
    "tags": []
   },
   "source": [
    "Email : arorayash905@gmail.com\n",
    "GitHub : https://github.com/arorayash905"
   ]
  },
  {
   "cell_type": "markdown",
   "metadata": {
    "papermill": {
     "duration": 0.016293,
     "end_time": "2020-09-28T20:54:08.824476",
     "exception": false,
     "start_time": "2020-09-28T20:54:08.808183",
     "status": "completed"
    },
    "tags": []
   },
   "source": [
    "# WhatsApp Chat Analysis (Private Data)"
   ]
  },
  {
   "cell_type": "code",
   "execution_count": 1,
   "metadata": {
    "_cell_guid": "b1076dfc-b9ad-4769-8c92-a6c4dae69d19",
    "_uuid": "8f2839f25d086af736a60e9eeb907d3b93b6e0e5",
    "execution": {
     "iopub.execute_input": "2020-09-28T20:54:08.865432Z",
     "iopub.status.busy": "2020-09-28T20:54:08.864523Z",
     "iopub.status.idle": "2020-09-28T20:54:08.871611Z",
     "shell.execute_reply": "2020-09-28T20:54:08.870935Z"
    },
    "papermill": {
     "duration": 0.030713,
     "end_time": "2020-09-28T20:54:08.871747",
     "exception": false,
     "start_time": "2020-09-28T20:54:08.841034",
     "status": "completed"
    },
    "tags": []
   },
   "outputs": [
    {
     "name": "stdout",
     "output_type": "stream",
     "text": [
      "/kaggle/input/whatsapp-chat/WhatsApp Chat with -gence.txt\n"
     ]
    }
   ],
   "source": [
    "# This Python 3 environment comes with many helpful analytics libraries installed\n",
    "# It is defined by the kaggle/python Docker image: https://github.com/kaggle/docker-python\n",
    "# For example, here's several helpful packages to load\n",
    "\n",
    "import numpy as np # linear algebra\n",
    "import pandas as pd # data processing, CSV file I/O (e.g. pd.read_csv)\n",
    "\n",
    "# Input data files are available in the read-only \"../input/\" directory\n",
    "# For example, running this (by clicking run or pressing Shift+Enter) will list all files under the input directory\n",
    "\n",
    "import os\n",
    "for dirname, _, filenames in os.walk('/kaggle/input'):\n",
    "    for filename in filenames:\n",
    "        print(os.path.join(dirname, filename))\n",
    "\n",
    "# You can write up to 5GB to the current directory (/kaggle/working/) that gets preserved as output when you create a version using \"Save & Run All\" \n",
    "# You can also write temporary files to /kaggle/temp/, but they won't be saved outside of the current session"
   ]
  },
  {
   "cell_type": "code",
   "execution_count": 2,
   "metadata": {
    "execution": {
     "iopub.execute_input": "2020-09-28T20:54:08.914112Z",
     "iopub.status.busy": "2020-09-28T20:54:08.913181Z",
     "iopub.status.idle": "2020-09-28T20:54:08.916053Z",
     "shell.execute_reply": "2020-09-28T20:54:08.915478Z"
    },
    "papermill": {
     "duration": 0.025189,
     "end_time": "2020-09-28T20:54:08.916184",
     "exception": false,
     "start_time": "2020-09-28T20:54:08.890995",
     "status": "completed"
    },
    "tags": []
   },
   "outputs": [],
   "source": [
    "pd.pandas.set_option('display.max_columns',None)"
   ]
  },
  {
   "cell_type": "code",
   "execution_count": 3,
   "metadata": {
    "_cell_guid": "79c7e3d0-c299-4dcb-8224-4455121ee9b0",
    "_uuid": "d629ff2d2480ee46fbb7e2d37f6b5fab8052498a",
    "execution": {
     "iopub.execute_input": "2020-09-28T20:54:08.957117Z",
     "iopub.status.busy": "2020-09-28T20:54:08.956280Z",
     "iopub.status.idle": "2020-09-28T20:54:09.019557Z",
     "shell.execute_reply": "2020-09-28T20:54:09.020131Z"
    },
    "papermill": {
     "duration": 0.0867,
     "end_time": "2020-09-28T20:54:09.020281",
     "exception": false,
     "start_time": "2020-09-28T20:54:08.933581",
     "status": "completed"
    },
    "tags": []
   },
   "outputs": [
    {
     "name": "stderr",
     "output_type": "stream",
     "text": [
      "b'Skipping line 2480: expected 4 fields, saw 5\\nSkipping line 3162: expected 4 fields, saw 52\\nSkipping line 3705: expected 4 fields, saw 5\\nSkipping line 8578: expected 4 fields, saw 6\\nSkipping line 8684: expected 4 fields, saw 6\\nSkipping line 9551: expected 4 fields, saw 6\\nSkipping line 9649: expected 4 fields, saw 9\\nSkipping line 9650: expected 4 fields, saw 9\\nSkipping line 9651: expected 4 fields, saw 9\\nSkipping line 9652: expected 4 fields, saw 9\\nSkipping line 9653: expected 4 fields, saw 9\\nSkipping line 9654: expected 4 fields, saw 9\\nSkipping line 10508: expected 4 fields, saw 5\\nSkipping line 11080: expected 4 fields, saw 5\\n'\n"
     ]
    },
    {
     "data": {
      "text/html": [
       "<div>\n",
       "<style scoped>\n",
       "    .dataframe tbody tr th:only-of-type {\n",
       "        vertical-align: middle;\n",
       "    }\n",
       "\n",
       "    .dataframe tbody tr th {\n",
       "        vertical-align: top;\n",
       "    }\n",
       "\n",
       "    .dataframe thead th {\n",
       "        text-align: right;\n",
       "    }\n",
       "</style>\n",
       "<table border=\"1\" class=\"dataframe\">\n",
       "  <thead>\n",
       "    <tr style=\"text-align: right;\">\n",
       "      <th></th>\n",
       "      <th>0</th>\n",
       "      <th>1</th>\n",
       "      <th>2</th>\n",
       "      <th>3</th>\n",
       "    </tr>\n",
       "  </thead>\n",
       "  <tbody>\n",
       "    <tr>\n",
       "      <th>0</th>\n",
       "      <td>5/3/20</td>\n",
       "      <td>4:14 PM - Messages and calls are end-to-end e...</td>\n",
       "      <td>not even WhatsApp</td>\n",
       "      <td>can read or listen to them. Tap to learn more.</td>\n",
       "    </tr>\n",
       "    <tr>\n",
       "      <th>1</th>\n",
       "      <td>5/3/20</td>\n",
       "      <td>4:14 PM - Abhishek tyagi created group \"Final...</td>\n",
       "      <td>NaN</td>\n",
       "      <td>NaN</td>\n",
       "    </tr>\n",
       "    <tr>\n",
       "      <th>2</th>\n",
       "      <td>5/3/20</td>\n",
       "      <td>4:14 PM - Abhishek tyagi added you</td>\n",
       "      <td>NaN</td>\n",
       "      <td>NaN</td>\n",
       "    </tr>\n",
       "    <tr>\n",
       "      <th>3</th>\n",
       "      <td>5/3/20</td>\n",
       "      <td>4:14 PM - Abhishek tyagi changed this group's...</td>\n",
       "      <td>NaN</td>\n",
       "      <td>NaN</td>\n",
       "    </tr>\n",
       "    <tr>\n",
       "      <th>4</th>\n",
       "      <td>5/3/20</td>\n",
       "      <td>4:21 PM - Abhishek tyagi changed the subject ...</td>\n",
       "      <td>NaN</td>\n",
       "      <td>NaN</td>\n",
       "    </tr>\n",
       "  </tbody>\n",
       "</table>\n",
       "</div>"
      ],
      "text/plain": [
       "        0                                                  1  \\\n",
       "0  5/3/20   4:14 PM - Messages and calls are end-to-end e...   \n",
       "1  5/3/20   4:14 PM - Abhishek tyagi created group \"Final...   \n",
       "2  5/3/20                 4:14 PM - Abhishek tyagi added you   \n",
       "3  5/3/20   4:14 PM - Abhishek tyagi changed this group's...   \n",
       "4  5/3/20   4:21 PM - Abhishek tyagi changed the subject ...   \n",
       "\n",
       "                    2                                                3  \n",
       "0   not even WhatsApp   can read or listen to them. Tap to learn more.  \n",
       "1                 NaN                                              NaN  \n",
       "2                 NaN                                              NaN  \n",
       "3                 NaN                                              NaN  \n",
       "4                 NaN                                              NaN  "
      ]
     },
     "execution_count": 3,
     "metadata": {},
     "output_type": "execute_result"
    }
   ],
   "source": [
    "chat = pd.read_csv(\"../input/whatsapp-chat/WhatsApp Chat with -gence.txt\", header = None , error_bad_lines = False,encoding = 'utf8')\n",
    "chat.head()"
   ]
  },
  {
   "cell_type": "code",
   "execution_count": 4,
   "metadata": {
    "execution": {
     "iopub.execute_input": "2020-09-28T20:54:09.076948Z",
     "iopub.status.busy": "2020-09-28T20:54:09.076019Z",
     "iopub.status.idle": "2020-09-28T20:54:09.081176Z",
     "shell.execute_reply": "2020-09-28T20:54:09.080542Z"
    },
    "papermill": {
     "duration": 0.04251,
     "end_time": "2020-09-28T20:54:09.081298",
     "exception": false,
     "start_time": "2020-09-28T20:54:09.038788",
     "status": "completed"
    },
    "tags": []
   },
   "outputs": [
    {
     "data": {
      "text/html": [
       "<div>\n",
       "<style scoped>\n",
       "    .dataframe tbody tr th:only-of-type {\n",
       "        vertical-align: middle;\n",
       "    }\n",
       "\n",
       "    .dataframe tbody tr th {\n",
       "        vertical-align: top;\n",
       "    }\n",
       "\n",
       "    .dataframe thead th {\n",
       "        text-align: right;\n",
       "    }\n",
       "</style>\n",
       "<table border=\"1\" class=\"dataframe\">\n",
       "  <thead>\n",
       "    <tr style=\"text-align: right;\">\n",
       "      <th></th>\n",
       "      <th>0</th>\n",
       "      <th>1</th>\n",
       "    </tr>\n",
       "  </thead>\n",
       "  <tbody>\n",
       "    <tr>\n",
       "      <th>0</th>\n",
       "      <td>5/3/20</td>\n",
       "      <td>4:14 PM - Messages and calls are end-to-end e...</td>\n",
       "    </tr>\n",
       "    <tr>\n",
       "      <th>1</th>\n",
       "      <td>5/3/20</td>\n",
       "      <td>4:14 PM - Abhishek tyagi created group \"Final...</td>\n",
       "    </tr>\n",
       "    <tr>\n",
       "      <th>2</th>\n",
       "      <td>5/3/20</td>\n",
       "      <td>4:14 PM - Abhishek tyagi added you</td>\n",
       "    </tr>\n",
       "    <tr>\n",
       "      <th>3</th>\n",
       "      <td>5/3/20</td>\n",
       "      <td>4:14 PM - Abhishek tyagi changed this group's...</td>\n",
       "    </tr>\n",
       "    <tr>\n",
       "      <th>4</th>\n",
       "      <td>5/3/20</td>\n",
       "      <td>4:21 PM - Abhishek tyagi changed the subject ...</td>\n",
       "    </tr>\n",
       "    <tr>\n",
       "      <th>...</th>\n",
       "      <td>...</td>\n",
       "      <td>...</td>\n",
       "    </tr>\n",
       "    <tr>\n",
       "      <th>11384</th>\n",
       "      <td>9/28/20</td>\n",
       "      <td>6:03 PM - Urban Pendu: 1 upvote tune kiya h @...</td>\n",
       "    </tr>\n",
       "    <tr>\n",
       "      <th>11385</th>\n",
       "      <td>9/28/20</td>\n",
       "      <td>6:21 PM - Sahil Dite: Mne</td>\n",
       "    </tr>\n",
       "    <tr>\n",
       "      <th>11386</th>\n",
       "      <td>9/28/20</td>\n",
       "      <td>6:28 PM - Urban Pendu: Ek notebook pe 2 vote ...</td>\n",
       "    </tr>\n",
       "    <tr>\n",
       "      <th>11387</th>\n",
       "      <td>9/28/20</td>\n",
       "      <td>6:28 PM - Urban Pendu: Isliye usse puchha</td>\n",
       "    </tr>\n",
       "    <tr>\n",
       "      <th>11388</th>\n",
       "      <td>9/28/20</td>\n",
       "      <td>6:29 PM - Sahil Dite: Acha</td>\n",
       "    </tr>\n",
       "  </tbody>\n",
       "</table>\n",
       "<p>11389 rows × 2 columns</p>\n",
       "</div>"
      ],
      "text/plain": [
       "             0                                                  1\n",
       "0       5/3/20   4:14 PM - Messages and calls are end-to-end e...\n",
       "1       5/3/20   4:14 PM - Abhishek tyagi created group \"Final...\n",
       "2       5/3/20                 4:14 PM - Abhishek tyagi added you\n",
       "3       5/3/20   4:14 PM - Abhishek tyagi changed this group's...\n",
       "4       5/3/20   4:21 PM - Abhishek tyagi changed the subject ...\n",
       "...        ...                                                ...\n",
       "11384  9/28/20   6:03 PM - Urban Pendu: 1 upvote tune kiya h @...\n",
       "11385  9/28/20                          6:21 PM - Sahil Dite: Mne\n",
       "11386  9/28/20   6:28 PM - Urban Pendu: Ek notebook pe 2 vote ...\n",
       "11387  9/28/20          6:28 PM - Urban Pendu: Isliye usse puchha\n",
       "11388  9/28/20                         6:29 PM - Sahil Dite: Acha\n",
       "\n",
       "[11389 rows x 2 columns]"
      ]
     },
     "execution_count": 4,
     "metadata": {},
     "output_type": "execute_result"
    }
   ],
   "source": [
    "chat.drop([2, 3], axis = 1, inplace = True)\n",
    "chat"
   ]
  },
  {
   "cell_type": "code",
   "execution_count": 5,
   "metadata": {
    "execution": {
     "iopub.execute_input": "2020-09-28T20:54:09.135059Z",
     "iopub.status.busy": "2020-09-28T20:54:09.134040Z",
     "iopub.status.idle": "2020-09-28T20:54:09.138337Z",
     "shell.execute_reply": "2020-09-28T20:54:09.139044Z"
    },
    "papermill": {
     "duration": 0.03819,
     "end_time": "2020-09-28T20:54:09.139202",
     "exception": false,
     "start_time": "2020-09-28T20:54:09.101012",
     "status": "completed"
    },
    "tags": []
   },
   "outputs": [
    {
     "data": {
      "text/html": [
       "<div>\n",
       "<style scoped>\n",
       "    .dataframe tbody tr th:only-of-type {\n",
       "        vertical-align: middle;\n",
       "    }\n",
       "\n",
       "    .dataframe tbody tr th {\n",
       "        vertical-align: top;\n",
       "    }\n",
       "\n",
       "    .dataframe thead th {\n",
       "        text-align: right;\n",
       "    }\n",
       "</style>\n",
       "<table border=\"1\" class=\"dataframe\">\n",
       "  <thead>\n",
       "    <tr style=\"text-align: right;\">\n",
       "      <th></th>\n",
       "      <th>Date</th>\n",
       "      <th>Chat</th>\n",
       "    </tr>\n",
       "  </thead>\n",
       "  <tbody>\n",
       "    <tr>\n",
       "      <th>0</th>\n",
       "      <td>5/3/20</td>\n",
       "      <td>4:14 PM - Messages and calls are end-to-end e...</td>\n",
       "    </tr>\n",
       "    <tr>\n",
       "      <th>1</th>\n",
       "      <td>5/3/20</td>\n",
       "      <td>4:14 PM - Abhishek tyagi created group \"Final...</td>\n",
       "    </tr>\n",
       "    <tr>\n",
       "      <th>2</th>\n",
       "      <td>5/3/20</td>\n",
       "      <td>4:14 PM - Abhishek tyagi added you</td>\n",
       "    </tr>\n",
       "    <tr>\n",
       "      <th>3</th>\n",
       "      <td>5/3/20</td>\n",
       "      <td>4:14 PM - Abhishek tyagi changed this group's...</td>\n",
       "    </tr>\n",
       "    <tr>\n",
       "      <th>4</th>\n",
       "      <td>5/3/20</td>\n",
       "      <td>4:21 PM - Abhishek tyagi changed the subject ...</td>\n",
       "    </tr>\n",
       "    <tr>\n",
       "      <th>...</th>\n",
       "      <td>...</td>\n",
       "      <td>...</td>\n",
       "    </tr>\n",
       "    <tr>\n",
       "      <th>11384</th>\n",
       "      <td>9/28/20</td>\n",
       "      <td>6:03 PM - Urban Pendu: 1 upvote tune kiya h @...</td>\n",
       "    </tr>\n",
       "    <tr>\n",
       "      <th>11385</th>\n",
       "      <td>9/28/20</td>\n",
       "      <td>6:21 PM - Sahil Dite: Mne</td>\n",
       "    </tr>\n",
       "    <tr>\n",
       "      <th>11386</th>\n",
       "      <td>9/28/20</td>\n",
       "      <td>6:28 PM - Urban Pendu: Ek notebook pe 2 vote ...</td>\n",
       "    </tr>\n",
       "    <tr>\n",
       "      <th>11387</th>\n",
       "      <td>9/28/20</td>\n",
       "      <td>6:28 PM - Urban Pendu: Isliye usse puchha</td>\n",
       "    </tr>\n",
       "    <tr>\n",
       "      <th>11388</th>\n",
       "      <td>9/28/20</td>\n",
       "      <td>6:29 PM - Sahil Dite: Acha</td>\n",
       "    </tr>\n",
       "  </tbody>\n",
       "</table>\n",
       "<p>11389 rows × 2 columns</p>\n",
       "</div>"
      ],
      "text/plain": [
       "          Date                                               Chat\n",
       "0       5/3/20   4:14 PM - Messages and calls are end-to-end e...\n",
       "1       5/3/20   4:14 PM - Abhishek tyagi created group \"Final...\n",
       "2       5/3/20                 4:14 PM - Abhishek tyagi added you\n",
       "3       5/3/20   4:14 PM - Abhishek tyagi changed this group's...\n",
       "4       5/3/20   4:21 PM - Abhishek tyagi changed the subject ...\n",
       "...        ...                                                ...\n",
       "11384  9/28/20   6:03 PM - Urban Pendu: 1 upvote tune kiya h @...\n",
       "11385  9/28/20                          6:21 PM - Sahil Dite: Mne\n",
       "11386  9/28/20   6:28 PM - Urban Pendu: Ek notebook pe 2 vote ...\n",
       "11387  9/28/20          6:28 PM - Urban Pendu: Isliye usse puchha\n",
       "11388  9/28/20                         6:29 PM - Sahil Dite: Acha\n",
       "\n",
       "[11389 rows x 2 columns]"
      ]
     },
     "execution_count": 5,
     "metadata": {},
     "output_type": "execute_result"
    }
   ],
   "source": [
    "chat.columns = [\"Date\", \"Chat\"]\n",
    "chat"
   ]
  },
  {
   "cell_type": "code",
   "execution_count": 6,
   "metadata": {
    "execution": {
     "iopub.execute_input": "2020-09-28T20:54:09.279130Z",
     "iopub.status.busy": "2020-09-28T20:54:09.278320Z",
     "iopub.status.idle": "2020-09-28T20:54:09.299167Z",
     "shell.execute_reply": "2020-09-28T20:54:09.298562Z"
    },
    "papermill": {
     "duration": 0.139446,
     "end_time": "2020-09-28T20:54:09.299285",
     "exception": false,
     "start_time": "2020-09-28T20:54:09.159839",
     "status": "completed"
    },
    "tags": []
   },
   "outputs": [
    {
     "data": {
      "text/html": [
       "<div>\n",
       "<style scoped>\n",
       "    .dataframe tbody tr th:only-of-type {\n",
       "        vertical-align: middle;\n",
       "    }\n",
       "\n",
       "    .dataframe tbody tr th {\n",
       "        vertical-align: top;\n",
       "    }\n",
       "\n",
       "    .dataframe thead th {\n",
       "        text-align: right;\n",
       "    }\n",
       "</style>\n",
       "<table border=\"1\" class=\"dataframe\">\n",
       "  <thead>\n",
       "    <tr style=\"text-align: right;\">\n",
       "      <th></th>\n",
       "      <th>Time</th>\n",
       "      <th>Message</th>\n",
       "    </tr>\n",
       "  </thead>\n",
       "  <tbody>\n",
       "    <tr>\n",
       "      <th>0</th>\n",
       "      <td>4:14 PM</td>\n",
       "      <td>Messages and calls are end-to-end encrypted. ...</td>\n",
       "    </tr>\n",
       "    <tr>\n",
       "      <th>1</th>\n",
       "      <td>4:14 PM</td>\n",
       "      <td>Abhishek tyagi created group \"Final Year Works\"</td>\n",
       "    </tr>\n",
       "    <tr>\n",
       "      <th>2</th>\n",
       "      <td>4:14 PM</td>\n",
       "      <td>Abhishek tyagi added you</td>\n",
       "    </tr>\n",
       "    <tr>\n",
       "      <th>3</th>\n",
       "      <td>4:14 PM</td>\n",
       "      <td>Abhishek tyagi changed this group's icon</td>\n",
       "    </tr>\n",
       "    <tr>\n",
       "      <th>4</th>\n",
       "      <td>4:21 PM</td>\n",
       "      <td>Abhishek tyagi changed the subject from \"Fina...</td>\n",
       "    </tr>\n",
       "    <tr>\n",
       "      <th>...</th>\n",
       "      <td>...</td>\n",
       "      <td>...</td>\n",
       "    </tr>\n",
       "    <tr>\n",
       "      <th>11384</th>\n",
       "      <td>6:03 PM</td>\n",
       "      <td>Urban Pendu: 1 upvote tune kiya h @9199977821...</td>\n",
       "    </tr>\n",
       "    <tr>\n",
       "      <th>11385</th>\n",
       "      <td>6:21 PM</td>\n",
       "      <td>Sahil Dite: Mne</td>\n",
       "    </tr>\n",
       "    <tr>\n",
       "      <th>11386</th>\n",
       "      <td>6:28 PM</td>\n",
       "      <td>Urban Pendu: Ek notebook pe 2 vote the.. tu t...</td>\n",
       "    </tr>\n",
       "    <tr>\n",
       "      <th>11387</th>\n",
       "      <td>6:28 PM</td>\n",
       "      <td>Urban Pendu: Isliye usse puchha</td>\n",
       "    </tr>\n",
       "    <tr>\n",
       "      <th>11388</th>\n",
       "      <td>6:29 PM</td>\n",
       "      <td>Sahil Dite: Acha</td>\n",
       "    </tr>\n",
       "  </tbody>\n",
       "</table>\n",
       "<p>11389 rows × 2 columns</p>\n",
       "</div>"
      ],
      "text/plain": [
       "            Time                                            Message\n",
       "0       4:14 PM    Messages and calls are end-to-end encrypted. ...\n",
       "1       4:14 PM     Abhishek tyagi created group \"Final Year Works\"\n",
       "2       4:14 PM                            Abhishek tyagi added you\n",
       "3       4:14 PM            Abhishek tyagi changed this group's icon\n",
       "4       4:21 PM    Abhishek tyagi changed the subject from \"Fina...\n",
       "...          ...                                                ...\n",
       "11384   6:03 PM    Urban Pendu: 1 upvote tune kiya h @9199977821...\n",
       "11385   6:21 PM                                     Sahil Dite: Mne\n",
       "11386   6:28 PM    Urban Pendu: Ek notebook pe 2 vote the.. tu t...\n",
       "11387   6:28 PM                     Urban Pendu: Isliye usse puchha\n",
       "11388   6:29 PM                                    Sahil Dite: Acha\n",
       "\n",
       "[11389 rows x 2 columns]"
      ]
     },
     "execution_count": 6,
     "metadata": {},
     "output_type": "execute_result"
    }
   ],
   "source": [
    "message = chat[\"Chat\"].str.split(\"-\", n= 1, expand = True)\n",
    "message.columns = [\"Time\", \"Message\"]\n",
    "message"
   ]
  },
  {
   "cell_type": "code",
   "execution_count": 7,
   "metadata": {
    "execution": {
     "iopub.execute_input": "2020-09-28T20:54:09.349273Z",
     "iopub.status.busy": "2020-09-28T20:54:09.348200Z",
     "iopub.status.idle": "2020-09-28T20:54:09.362545Z",
     "shell.execute_reply": "2020-09-28T20:54:09.361804Z"
    },
    "papermill": {
     "duration": 0.041934,
     "end_time": "2020-09-28T20:54:09.362677",
     "exception": false,
     "start_time": "2020-09-28T20:54:09.320743",
     "status": "completed"
    },
    "tags": []
   },
   "outputs": [
    {
     "data": {
      "text/html": [
       "<div>\n",
       "<style scoped>\n",
       "    .dataframe tbody tr th:only-of-type {\n",
       "        vertical-align: middle;\n",
       "    }\n",
       "\n",
       "    .dataframe tbody tr th {\n",
       "        vertical-align: top;\n",
       "    }\n",
       "\n",
       "    .dataframe thead th {\n",
       "        text-align: right;\n",
       "    }\n",
       "</style>\n",
       "<table border=\"1\" class=\"dataframe\">\n",
       "  <thead>\n",
       "    <tr style=\"text-align: right;\">\n",
       "      <th></th>\n",
       "      <th>Date</th>\n",
       "      <th>Time</th>\n",
       "      <th>Message</th>\n",
       "    </tr>\n",
       "  </thead>\n",
       "  <tbody>\n",
       "    <tr>\n",
       "      <th>0</th>\n",
       "      <td>5/3/20</td>\n",
       "      <td>4:14 PM</td>\n",
       "      <td>Messages and calls are end-to-end encrypted. ...</td>\n",
       "    </tr>\n",
       "    <tr>\n",
       "      <th>1</th>\n",
       "      <td>5/3/20</td>\n",
       "      <td>4:14 PM</td>\n",
       "      <td>Abhishek tyagi created group \"Final Year Works\"</td>\n",
       "    </tr>\n",
       "    <tr>\n",
       "      <th>2</th>\n",
       "      <td>5/3/20</td>\n",
       "      <td>4:14 PM</td>\n",
       "      <td>Abhishek tyagi added you</td>\n",
       "    </tr>\n",
       "    <tr>\n",
       "      <th>3</th>\n",
       "      <td>5/3/20</td>\n",
       "      <td>4:14 PM</td>\n",
       "      <td>Abhishek tyagi changed this group's icon</td>\n",
       "    </tr>\n",
       "    <tr>\n",
       "      <th>4</th>\n",
       "      <td>5/3/20</td>\n",
       "      <td>4:21 PM</td>\n",
       "      <td>Abhishek tyagi changed the subject from \"Fina...</td>\n",
       "    </tr>\n",
       "  </tbody>\n",
       "</table>\n",
       "</div>"
      ],
      "text/plain": [
       "     Date       Time                                            Message\n",
       "0  5/3/20   4:14 PM    Messages and calls are end-to-end encrypted. ...\n",
       "1  5/3/20   4:14 PM     Abhishek tyagi created group \"Final Year Works\"\n",
       "2  5/3/20   4:14 PM                            Abhishek tyagi added you\n",
       "3  5/3/20   4:14 PM            Abhishek tyagi changed this group's icon\n",
       "4  5/3/20   4:21 PM    Abhishek tyagi changed the subject from \"Fina..."
      ]
     },
     "execution_count": 7,
     "metadata": {},
     "output_type": "execute_result"
    }
   ],
   "source": [
    "chat = chat.drop(\"Chat\", axis = 1)\n",
    "chat[\"Time\"] = message[\"Time\"]\n",
    "chat[\"Message\"] = message[\"Message\"]\n",
    "chat.head(5)"
   ]
  },
  {
   "cell_type": "code",
   "execution_count": 8,
   "metadata": {
    "execution": {
     "iopub.execute_input": "2020-09-28T20:54:09.441825Z",
     "iopub.status.busy": "2020-09-28T20:54:09.435303Z",
     "iopub.status.idle": "2020-09-28T20:54:09.459184Z",
     "shell.execute_reply": "2020-09-28T20:54:09.458472Z"
    },
    "papermill": {
     "duration": 0.074814,
     "end_time": "2020-09-28T20:54:09.459303",
     "exception": false,
     "start_time": "2020-09-28T20:54:09.384489",
     "status": "completed"
    },
    "tags": []
   },
   "outputs": [
    {
     "data": {
      "text/html": [
       "<div>\n",
       "<style scoped>\n",
       "    .dataframe tbody tr th:only-of-type {\n",
       "        vertical-align: middle;\n",
       "    }\n",
       "\n",
       "    .dataframe tbody tr th {\n",
       "        vertical-align: top;\n",
       "    }\n",
       "\n",
       "    .dataframe thead th {\n",
       "        text-align: right;\n",
       "    }\n",
       "</style>\n",
       "<table border=\"1\" class=\"dataframe\">\n",
       "  <thead>\n",
       "    <tr style=\"text-align: right;\">\n",
       "      <th></th>\n",
       "      <th>Name</th>\n",
       "      <th>Message</th>\n",
       "    </tr>\n",
       "  </thead>\n",
       "  <tbody>\n",
       "    <tr>\n",
       "      <th>0</th>\n",
       "      <td>Messages and calls are end-to-end encrypted. ...</td>\n",
       "      <td>None</td>\n",
       "    </tr>\n",
       "    <tr>\n",
       "      <th>1</th>\n",
       "      <td>Abhishek tyagi created group \"Final Year Works\"</td>\n",
       "      <td>None</td>\n",
       "    </tr>\n",
       "    <tr>\n",
       "      <th>2</th>\n",
       "      <td>Abhishek tyagi added you</td>\n",
       "      <td>None</td>\n",
       "    </tr>\n",
       "    <tr>\n",
       "      <th>3</th>\n",
       "      <td>Abhishek tyagi changed this group's icon</td>\n",
       "      <td>None</td>\n",
       "    </tr>\n",
       "    <tr>\n",
       "      <th>4</th>\n",
       "      <td>Abhishek tyagi changed the subject from \"Fina...</td>\n",
       "      <td>None</td>\n",
       "    </tr>\n",
       "    <tr>\n",
       "      <th>...</th>\n",
       "      <td>...</td>\n",
       "      <td>...</td>\n",
       "    </tr>\n",
       "    <tr>\n",
       "      <th>11384</th>\n",
       "      <td>Urban Pendu</td>\n",
       "      <td>1 upvote tune kiya h @919997782184 ?</td>\n",
       "    </tr>\n",
       "    <tr>\n",
       "      <th>11385</th>\n",
       "      <td>Sahil Dite</td>\n",
       "      <td>Mne</td>\n",
       "    </tr>\n",
       "    <tr>\n",
       "      <th>11386</th>\n",
       "      <td>Urban Pendu</td>\n",
       "      <td>Ek notebook pe 2 vote the.. tu to ek hi de sa...</td>\n",
       "    </tr>\n",
       "    <tr>\n",
       "      <th>11387</th>\n",
       "      <td>Urban Pendu</td>\n",
       "      <td>Isliye usse puchha</td>\n",
       "    </tr>\n",
       "    <tr>\n",
       "      <th>11388</th>\n",
       "      <td>Sahil Dite</td>\n",
       "      <td>Acha</td>\n",
       "    </tr>\n",
       "  </tbody>\n",
       "</table>\n",
       "<p>11389 rows × 2 columns</p>\n",
       "</div>"
      ],
      "text/plain": [
       "                                                    Name  \\\n",
       "0       Messages and calls are end-to-end encrypted. ...   \n",
       "1        Abhishek tyagi created group \"Final Year Works\"   \n",
       "2                               Abhishek tyagi added you   \n",
       "3               Abhishek tyagi changed this group's icon   \n",
       "4       Abhishek tyagi changed the subject from \"Fina...   \n",
       "...                                                  ...   \n",
       "11384                                        Urban Pendu   \n",
       "11385                                         Sahil Dite   \n",
       "11386                                        Urban Pendu   \n",
       "11387                                        Urban Pendu   \n",
       "11388                                         Sahil Dite   \n",
       "\n",
       "                                                 Message  \n",
       "0                                                   None  \n",
       "1                                                   None  \n",
       "2                                                   None  \n",
       "3                                                   None  \n",
       "4                                                   None  \n",
       "...                                                  ...  \n",
       "11384               1 upvote tune kiya h @919997782184 ?  \n",
       "11385                                                Mne  \n",
       "11386   Ek notebook pe 2 vote the.. tu to ek hi de sa...  \n",
       "11387                                 Isliye usse puchha  \n",
       "11388                                               Acha  \n",
       "\n",
       "[11389 rows x 2 columns]"
      ]
     },
     "execution_count": 8,
     "metadata": {},
     "output_type": "execute_result"
    }
   ],
   "source": [
    "message = chat[\"Message\"].str.split(\":\", n= 1, expand = True)\n",
    "message.columns = [\"Name\", \"Message\"]\n",
    "message"
   ]
  },
  {
   "cell_type": "code",
   "execution_count": 9,
   "metadata": {
    "execution": {
     "iopub.execute_input": "2020-09-28T20:54:09.511807Z",
     "iopub.status.busy": "2020-09-28T20:54:09.511059Z",
     "iopub.status.idle": "2020-09-28T20:54:09.527237Z",
     "shell.execute_reply": "2020-09-28T20:54:09.527790Z"
    },
    "papermill": {
     "duration": 0.046052,
     "end_time": "2020-09-28T20:54:09.527957",
     "exception": false,
     "start_time": "2020-09-28T20:54:09.481905",
     "status": "completed"
    },
    "tags": []
   },
   "outputs": [
    {
     "data": {
      "text/html": [
       "<div>\n",
       "<style scoped>\n",
       "    .dataframe tbody tr th:only-of-type {\n",
       "        vertical-align: middle;\n",
       "    }\n",
       "\n",
       "    .dataframe tbody tr th {\n",
       "        vertical-align: top;\n",
       "    }\n",
       "\n",
       "    .dataframe thead th {\n",
       "        text-align: right;\n",
       "    }\n",
       "</style>\n",
       "<table border=\"1\" class=\"dataframe\">\n",
       "  <thead>\n",
       "    <tr style=\"text-align: right;\">\n",
       "      <th></th>\n",
       "      <th>Date</th>\n",
       "      <th>Time</th>\n",
       "      <th>Name</th>\n",
       "      <th>Message</th>\n",
       "    </tr>\n",
       "  </thead>\n",
       "  <tbody>\n",
       "    <tr>\n",
       "      <th>0</th>\n",
       "      <td>5/3/20</td>\n",
       "      <td>4:14 PM</td>\n",
       "      <td>Messages and calls are end-to-end encrypted. ...</td>\n",
       "      <td>None</td>\n",
       "    </tr>\n",
       "    <tr>\n",
       "      <th>1</th>\n",
       "      <td>5/3/20</td>\n",
       "      <td>4:14 PM</td>\n",
       "      <td>Abhishek tyagi created group \"Final Year Works\"</td>\n",
       "      <td>None</td>\n",
       "    </tr>\n",
       "    <tr>\n",
       "      <th>2</th>\n",
       "      <td>5/3/20</td>\n",
       "      <td>4:14 PM</td>\n",
       "      <td>Abhishek tyagi added you</td>\n",
       "      <td>None</td>\n",
       "    </tr>\n",
       "    <tr>\n",
       "      <th>3</th>\n",
       "      <td>5/3/20</td>\n",
       "      <td>4:14 PM</td>\n",
       "      <td>Abhishek tyagi changed this group's icon</td>\n",
       "      <td>None</td>\n",
       "    </tr>\n",
       "    <tr>\n",
       "      <th>4</th>\n",
       "      <td>5/3/20</td>\n",
       "      <td>4:21 PM</td>\n",
       "      <td>Abhishek tyagi changed the subject from \"Fina...</td>\n",
       "      <td>None</td>\n",
       "    </tr>\n",
       "    <tr>\n",
       "      <th>5</th>\n",
       "      <td>5/3/20</td>\n",
       "      <td>6:16 PM</td>\n",
       "      <td>Sahil Dite</td>\n",
       "      <td>Wse Mudit ko bhaga deta wo char log wale grou...</td>\n",
       "    </tr>\n",
       "    <tr>\n",
       "      <th>6</th>\n",
       "      <td>5/3/20</td>\n",
       "      <td>6:16 PM</td>\n",
       "      <td>Abhishek tyagi</td>\n",
       "      <td>Soch to Raha tha</td>\n",
       "    </tr>\n",
       "    <tr>\n",
       "      <th>7</th>\n",
       "      <td>5/3/20</td>\n",
       "      <td>6:16 PM</td>\n",
       "      <td>Abhishek tyagi</td>\n",
       "      <td>Lekin ye group baato ke liye na banaya</td>\n",
       "    </tr>\n",
       "    <tr>\n",
       "      <th>8</th>\n",
       "      <td>5/3/20</td>\n",
       "      <td>6:16 PM</td>\n",
       "      <td>Sahil Dite</td>\n",
       "      <td>Acha</td>\n",
       "    </tr>\n",
       "    <tr>\n",
       "      <th>9</th>\n",
       "      <td>5/3/20</td>\n",
       "      <td>6:16 PM</td>\n",
       "      <td>Sahil Dite</td>\n",
       "      <td>Wo to us group m bhi na hoti</td>\n",
       "    </tr>\n",
       "  </tbody>\n",
       "</table>\n",
       "</div>"
      ],
      "text/plain": [
       "     Date       Time                                               Name  \\\n",
       "0  5/3/20   4:14 PM    Messages and calls are end-to-end encrypted. ...   \n",
       "1  5/3/20   4:14 PM     Abhishek tyagi created group \"Final Year Works\"   \n",
       "2  5/3/20   4:14 PM                            Abhishek tyagi added you   \n",
       "3  5/3/20   4:14 PM            Abhishek tyagi changed this group's icon   \n",
       "4  5/3/20   4:21 PM    Abhishek tyagi changed the subject from \"Fina...   \n",
       "5  5/3/20   6:16 PM                                          Sahil Dite   \n",
       "6  5/3/20   6:16 PM                                      Abhishek tyagi   \n",
       "7  5/3/20   6:16 PM                                      Abhishek tyagi   \n",
       "8  5/3/20   6:16 PM                                          Sahil Dite   \n",
       "9  5/3/20   6:16 PM                                          Sahil Dite   \n",
       "\n",
       "                                             Message  \n",
       "0                                               None  \n",
       "1                                               None  \n",
       "2                                               None  \n",
       "3                                               None  \n",
       "4                                               None  \n",
       "5   Wse Mudit ko bhaga deta wo char log wale grou...  \n",
       "6                                   Soch to Raha tha  \n",
       "7             Lekin ye group baato ke liye na banaya  \n",
       "8                                               Acha  \n",
       "9                       Wo to us group m bhi na hoti  "
      ]
     },
     "execution_count": 9,
     "metadata": {},
     "output_type": "execute_result"
    }
   ],
   "source": [
    "chat = chat.drop(\"Message\", axis = 1)\n",
    "chat[\"Name\"] = message[\"Name\"]\n",
    "chat[\"Message\"] = message[\"Message\"]\n",
    "chat.head(10)"
   ]
  },
  {
   "cell_type": "code",
   "execution_count": 10,
   "metadata": {
    "execution": {
     "iopub.execute_input": "2020-09-28T20:54:09.591196Z",
     "iopub.status.busy": "2020-09-28T20:54:09.590438Z",
     "iopub.status.idle": "2020-09-28T20:54:09.630853Z",
     "shell.execute_reply": "2020-09-28T20:54:09.631365Z"
    },
    "papermill": {
     "duration": 0.080239,
     "end_time": "2020-09-28T20:54:09.631541",
     "exception": false,
     "start_time": "2020-09-28T20:54:09.551302",
     "status": "completed"
    },
    "tags": []
   },
   "outputs": [
    {
     "data": {
      "text/html": [
       "<div>\n",
       "<style scoped>\n",
       "    .dataframe tbody tr th:only-of-type {\n",
       "        vertical-align: middle;\n",
       "    }\n",
       "\n",
       "    .dataframe tbody tr th {\n",
       "        vertical-align: top;\n",
       "    }\n",
       "\n",
       "    .dataframe thead th {\n",
       "        text-align: right;\n",
       "    }\n",
       "</style>\n",
       "<table border=\"1\" class=\"dataframe\">\n",
       "  <thead>\n",
       "    <tr style=\"text-align: right;\">\n",
       "      <th></th>\n",
       "      <th>Date</th>\n",
       "      <th>Time</th>\n",
       "      <th>Name</th>\n",
       "      <th>Message</th>\n",
       "    </tr>\n",
       "  </thead>\n",
       "  <tbody>\n",
       "    <tr>\n",
       "      <th>5</th>\n",
       "      <td>5/3/20</td>\n",
       "      <td>6:16 PM</td>\n",
       "      <td>Sahil Dite</td>\n",
       "      <td>wse mudit ko bhaga deta wo char log wale grou...</td>\n",
       "    </tr>\n",
       "    <tr>\n",
       "      <th>6</th>\n",
       "      <td>5/3/20</td>\n",
       "      <td>6:16 PM</td>\n",
       "      <td>Abhishek tyagi</td>\n",
       "      <td>soch to raha tha</td>\n",
       "    </tr>\n",
       "    <tr>\n",
       "      <th>7</th>\n",
       "      <td>5/3/20</td>\n",
       "      <td>6:16 PM</td>\n",
       "      <td>Abhishek tyagi</td>\n",
       "      <td>lekin ye group baato ke liye na banaya</td>\n",
       "    </tr>\n",
       "    <tr>\n",
       "      <th>8</th>\n",
       "      <td>5/3/20</td>\n",
       "      <td>6:16 PM</td>\n",
       "      <td>Sahil Dite</td>\n",
       "      <td>acha</td>\n",
       "    </tr>\n",
       "    <tr>\n",
       "      <th>9</th>\n",
       "      <td>5/3/20</td>\n",
       "      <td>6:16 PM</td>\n",
       "      <td>Sahil Dite</td>\n",
       "      <td>wo to us group m bhi na hoti</td>\n",
       "    </tr>\n",
       "  </tbody>\n",
       "</table>\n",
       "</div>"
      ],
      "text/plain": [
       "     Date       Time             Name  \\\n",
       "5  5/3/20   6:16 PM        Sahil Dite   \n",
       "6  5/3/20   6:16 PM    Abhishek tyagi   \n",
       "7  5/3/20   6:16 PM    Abhishek tyagi   \n",
       "8  5/3/20   6:16 PM        Sahil Dite   \n",
       "9  5/3/20   6:16 PM        Sahil Dite   \n",
       "\n",
       "                                             Message  \n",
       "5   wse mudit ko bhaga deta wo char log wale grou...  \n",
       "6                                   soch to raha tha  \n",
       "7             lekin ye group baato ke liye na banaya  \n",
       "8                                               acha  \n",
       "9                       wo to us group m bhi na hoti  "
      ]
     },
     "execution_count": 10,
     "metadata": {},
     "output_type": "execute_result"
    }
   ],
   "source": [
    "chat['Message'] = chat['Message'].str.lower()\n",
    "chat.dropna(axis = 0, inplace = True)\n",
    "chat.head()"
   ]
  },
  {
   "cell_type": "code",
   "execution_count": 11,
   "metadata": {
    "execution": {
     "iopub.execute_input": "2020-09-28T20:54:09.695689Z",
     "iopub.status.busy": "2020-09-28T20:54:09.694547Z",
     "iopub.status.idle": "2020-09-28T20:54:09.699206Z",
     "shell.execute_reply": "2020-09-28T20:54:09.698607Z"
    },
    "papermill": {
     "duration": 0.043584,
     "end_time": "2020-09-28T20:54:09.699322",
     "exception": false,
     "start_time": "2020-09-28T20:54:09.655738",
     "status": "completed"
    },
    "tags": []
   },
   "outputs": [
    {
     "data": {
      "text/html": [
       "<div>\n",
       "<style scoped>\n",
       "    .dataframe tbody tr th:only-of-type {\n",
       "        vertical-align: middle;\n",
       "    }\n",
       "\n",
       "    .dataframe tbody tr th {\n",
       "        vertical-align: top;\n",
       "    }\n",
       "\n",
       "    .dataframe thead th {\n",
       "        text-align: right;\n",
       "    }\n",
       "</style>\n",
       "<table border=\"1\" class=\"dataframe\">\n",
       "  <thead>\n",
       "    <tr style=\"text-align: right;\">\n",
       "      <th></th>\n",
       "      <th>Date</th>\n",
       "      <th>Time</th>\n",
       "      <th>Name</th>\n",
       "      <th>Message</th>\n",
       "    </tr>\n",
       "  </thead>\n",
       "  <tbody>\n",
       "    <tr>\n",
       "      <th>5</th>\n",
       "      <td>5/3/20</td>\n",
       "      <td>6:16 PM</td>\n",
       "      <td>Sahil Dite</td>\n",
       "      <td>wse mudit ko bhaga deta wo char log wale grou...</td>\n",
       "    </tr>\n",
       "    <tr>\n",
       "      <th>6</th>\n",
       "      <td>5/3/20</td>\n",
       "      <td>6:16 PM</td>\n",
       "      <td>Abhishek tyagi</td>\n",
       "      <td>soch to raha tha</td>\n",
       "    </tr>\n",
       "    <tr>\n",
       "      <th>7</th>\n",
       "      <td>5/3/20</td>\n",
       "      <td>6:16 PM</td>\n",
       "      <td>Abhishek tyagi</td>\n",
       "      <td>lekin ye group baato ke liye na banaya</td>\n",
       "    </tr>\n",
       "    <tr>\n",
       "      <th>8</th>\n",
       "      <td>5/3/20</td>\n",
       "      <td>6:16 PM</td>\n",
       "      <td>Sahil Dite</td>\n",
       "      <td>acha</td>\n",
       "    </tr>\n",
       "    <tr>\n",
       "      <th>9</th>\n",
       "      <td>5/3/20</td>\n",
       "      <td>6:16 PM</td>\n",
       "      <td>Sahil Dite</td>\n",
       "      <td>wo to us group m bhi na hoti</td>\n",
       "    </tr>\n",
       "    <tr>\n",
       "      <th>...</th>\n",
       "      <td>...</td>\n",
       "      <td>...</td>\n",
       "      <td>...</td>\n",
       "      <td>...</td>\n",
       "    </tr>\n",
       "    <tr>\n",
       "      <th>11384</th>\n",
       "      <td>9/28/20</td>\n",
       "      <td>6:03 PM</td>\n",
       "      <td>Urban Pendu</td>\n",
       "      <td>1 upvote tune kiya h @919997782184 ?</td>\n",
       "    </tr>\n",
       "    <tr>\n",
       "      <th>11385</th>\n",
       "      <td>9/28/20</td>\n",
       "      <td>6:21 PM</td>\n",
       "      <td>Sahil Dite</td>\n",
       "      <td>mne</td>\n",
       "    </tr>\n",
       "    <tr>\n",
       "      <th>11386</th>\n",
       "      <td>9/28/20</td>\n",
       "      <td>6:28 PM</td>\n",
       "      <td>Urban Pendu</td>\n",
       "      <td>ek notebook pe 2 vote the.. tu to ek hi de sa...</td>\n",
       "    </tr>\n",
       "    <tr>\n",
       "      <th>11387</th>\n",
       "      <td>9/28/20</td>\n",
       "      <td>6:28 PM</td>\n",
       "      <td>Urban Pendu</td>\n",
       "      <td>isliye usse puchha</td>\n",
       "    </tr>\n",
       "    <tr>\n",
       "      <th>11388</th>\n",
       "      <td>9/28/20</td>\n",
       "      <td>6:29 PM</td>\n",
       "      <td>Sahil Dite</td>\n",
       "      <td>acha</td>\n",
       "    </tr>\n",
       "  </tbody>\n",
       "</table>\n",
       "<p>10912 rows × 4 columns</p>\n",
       "</div>"
      ],
      "text/plain": [
       "          Date       Time             Name  \\\n",
       "5       5/3/20   6:16 PM        Sahil Dite   \n",
       "6       5/3/20   6:16 PM    Abhishek tyagi   \n",
       "7       5/3/20   6:16 PM    Abhishek tyagi   \n",
       "8       5/3/20   6:16 PM        Sahil Dite   \n",
       "9       5/3/20   6:16 PM        Sahil Dite   \n",
       "...        ...        ...              ...   \n",
       "11384  9/28/20   6:03 PM       Urban Pendu   \n",
       "11385  9/28/20   6:21 PM        Sahil Dite   \n",
       "11386  9/28/20   6:28 PM       Urban Pendu   \n",
       "11387  9/28/20   6:28 PM       Urban Pendu   \n",
       "11388  9/28/20   6:29 PM        Sahil Dite   \n",
       "\n",
       "                                                 Message  \n",
       "5       wse mudit ko bhaga deta wo char log wale grou...  \n",
       "6                                       soch to raha tha  \n",
       "7                 lekin ye group baato ke liye na banaya  \n",
       "8                                                   acha  \n",
       "9                           wo to us group m bhi na hoti  \n",
       "...                                                  ...  \n",
       "11384               1 upvote tune kiya h @919997782184 ?  \n",
       "11385                                                mne  \n",
       "11386   ek notebook pe 2 vote the.. tu to ek hi de sa...  \n",
       "11387                                 isliye usse puchha  \n",
       "11388                                               acha  \n",
       "\n",
       "[10912 rows x 4 columns]"
      ]
     },
     "execution_count": 11,
     "metadata": {},
     "output_type": "execute_result"
    }
   ],
   "source": [
    "chat"
   ]
  },
  {
   "cell_type": "code",
   "execution_count": 12,
   "metadata": {
    "execution": {
     "iopub.execute_input": "2020-09-28T20:54:09.790573Z",
     "iopub.status.busy": "2020-09-28T20:54:09.789653Z",
     "iopub.status.idle": "2020-09-28T20:54:09.794822Z",
     "shell.execute_reply": "2020-09-28T20:54:09.794071Z"
    },
    "papermill": {
     "duration": 0.070364,
     "end_time": "2020-09-28T20:54:09.794946",
     "exception": false,
     "start_time": "2020-09-28T20:54:09.724582",
     "status": "completed"
    },
    "tags": []
   },
   "outputs": [
    {
     "data": {
      "text/html": [
       "<div>\n",
       "<style scoped>\n",
       "    .dataframe tbody tr th:only-of-type {\n",
       "        vertical-align: middle;\n",
       "    }\n",
       "\n",
       "    .dataframe tbody tr th {\n",
       "        vertical-align: top;\n",
       "    }\n",
       "\n",
       "    .dataframe thead th {\n",
       "        text-align: right;\n",
       "    }\n",
       "</style>\n",
       "<table border=\"1\" class=\"dataframe\">\n",
       "  <thead>\n",
       "    <tr style=\"text-align: right;\">\n",
       "      <th></th>\n",
       "      <th>Date</th>\n",
       "      <th>Time</th>\n",
       "      <th>Name</th>\n",
       "      <th>Message</th>\n",
       "    </tr>\n",
       "  </thead>\n",
       "  <tbody>\n",
       "    <tr>\n",
       "      <th>5</th>\n",
       "      <td>5/3/20</td>\n",
       "      <td>6:16 PM</td>\n",
       "      <td>Sahil Dite</td>\n",
       "      <td>wse mudit ko bhaga deta wo char log wale grou...</td>\n",
       "    </tr>\n",
       "    <tr>\n",
       "      <th>6</th>\n",
       "      <td>5/3/20</td>\n",
       "      <td>6:16 PM</td>\n",
       "      <td>Abhishek tyagi</td>\n",
       "      <td>soch to raha tha</td>\n",
       "    </tr>\n",
       "    <tr>\n",
       "      <th>7</th>\n",
       "      <td>5/3/20</td>\n",
       "      <td>6:16 PM</td>\n",
       "      <td>Abhishek tyagi</td>\n",
       "      <td>lekin ye group baato ke liye na banaya</td>\n",
       "    </tr>\n",
       "    <tr>\n",
       "      <th>8</th>\n",
       "      <td>5/3/20</td>\n",
       "      <td>6:16 PM</td>\n",
       "      <td>Sahil Dite</td>\n",
       "      <td>acha</td>\n",
       "    </tr>\n",
       "    <tr>\n",
       "      <th>9</th>\n",
       "      <td>5/3/20</td>\n",
       "      <td>6:16 PM</td>\n",
       "      <td>Sahil Dite</td>\n",
       "      <td>wo to us group m bhi na hoti</td>\n",
       "    </tr>\n",
       "  </tbody>\n",
       "</table>\n",
       "</div>"
      ],
      "text/plain": [
       "     Date       Time             Name  \\\n",
       "5  5/3/20   6:16 PM        Sahil Dite   \n",
       "6  5/3/20   6:16 PM    Abhishek tyagi   \n",
       "7  5/3/20   6:16 PM    Abhishek tyagi   \n",
       "8  5/3/20   6:16 PM        Sahil Dite   \n",
       "9  5/3/20   6:16 PM        Sahil Dite   \n",
       "\n",
       "                                             Message  \n",
       "5   wse mudit ko bhaga deta wo char log wale grou...  \n",
       "6                                   soch to raha tha  \n",
       "7             lekin ye group baato ke liye na banaya  \n",
       "8                                               acha  \n",
       "9                       wo to us group m bhi na hoti  "
      ]
     },
     "execution_count": 12,
     "metadata": {},
     "output_type": "execute_result"
    }
   ],
   "source": [
    "chat[\"Message\"] = chat[\"Message\"].str.replace(\" <media omitted>\", \"Media_Shared\")\n",
    "chat[\"Message\"] = chat[\"Message\"].str.replace(\" this message was deleted\", \"Message_Deleted\")\n",
    "chat.head(5)"
   ]
  },
  {
   "cell_type": "code",
   "execution_count": 13,
   "metadata": {
    "execution": {
     "iopub.execute_input": "2020-09-28T20:54:09.854254Z",
     "iopub.status.busy": "2020-09-28T20:54:09.853034Z",
     "iopub.status.idle": "2020-09-28T20:54:09.859238Z",
     "shell.execute_reply": "2020-09-28T20:54:09.858403Z"
    },
    "papermill": {
     "duration": 0.038372,
     "end_time": "2020-09-28T20:54:09.859422",
     "exception": false,
     "start_time": "2020-09-28T20:54:09.821050",
     "status": "completed"
    },
    "tags": []
   },
   "outputs": [
    {
     "name": "stdout",
     "output_type": "stream",
     "text": [
      "[' Sahil Dite' ' Abhishek tyagi' ' Urban Pendu' ' Sidhant Dite']\n"
     ]
    }
   ],
   "source": [
    "print(chat[\"Name\"].unique())"
   ]
  },
  {
   "cell_type": "code",
   "execution_count": 14,
   "metadata": {
    "execution": {
     "iopub.execute_input": "2020-09-28T20:54:09.966000Z",
     "iopub.status.busy": "2020-09-28T20:54:09.952471Z",
     "iopub.status.idle": "2020-09-28T20:54:10.000757Z",
     "shell.execute_reply": "2020-09-28T20:54:09.999738Z"
    },
    "papermill": {
     "duration": 0.108936,
     "end_time": "2020-09-28T20:54:10.000914",
     "exception": false,
     "start_time": "2020-09-28T20:54:09.891978",
     "status": "completed"
    },
    "tags": []
   },
   "outputs": [
    {
     "data": {
      "text/html": [
       "<div>\n",
       "<style scoped>\n",
       "    .dataframe tbody tr th:only-of-type {\n",
       "        vertical-align: middle;\n",
       "    }\n",
       "\n",
       "    .dataframe tbody tr th {\n",
       "        vertical-align: top;\n",
       "    }\n",
       "\n",
       "    .dataframe thead th {\n",
       "        text-align: right;\n",
       "    }\n",
       "</style>\n",
       "<table border=\"1\" class=\"dataframe\">\n",
       "  <thead>\n",
       "    <tr style=\"text-align: right;\">\n",
       "      <th></th>\n",
       "      <th>Date</th>\n",
       "      <th>Time</th>\n",
       "      <th>Name</th>\n",
       "      <th>Message</th>\n",
       "    </tr>\n",
       "  </thead>\n",
       "  <tbody>\n",
       "    <tr>\n",
       "      <th>0</th>\n",
       "      <td>5/3/20</td>\n",
       "      <td>6:16 PM</td>\n",
       "      <td>Sahil Kumar</td>\n",
       "      <td>wse mudit ko bhaga deta wo char log wale grou...</td>\n",
       "    </tr>\n",
       "    <tr>\n",
       "      <th>1</th>\n",
       "      <td>5/3/20</td>\n",
       "      <td>6:16 PM</td>\n",
       "      <td>Abhishek Tyagi</td>\n",
       "      <td>soch to raha tha</td>\n",
       "    </tr>\n",
       "    <tr>\n",
       "      <th>2</th>\n",
       "      <td>5/3/20</td>\n",
       "      <td>6:16 PM</td>\n",
       "      <td>Abhishek Tyagi</td>\n",
       "      <td>lekin ye group baato ke liye na banaya</td>\n",
       "    </tr>\n",
       "    <tr>\n",
       "      <th>3</th>\n",
       "      <td>5/3/20</td>\n",
       "      <td>6:16 PM</td>\n",
       "      <td>Sahil Kumar</td>\n",
       "      <td>acha</td>\n",
       "    </tr>\n",
       "    <tr>\n",
       "      <th>4</th>\n",
       "      <td>5/3/20</td>\n",
       "      <td>6:16 PM</td>\n",
       "      <td>Sahil Kumar</td>\n",
       "      <td>wo to us group m bhi na hoti</td>\n",
       "    </tr>\n",
       "    <tr>\n",
       "      <th>...</th>\n",
       "      <td>...</td>\n",
       "      <td>...</td>\n",
       "      <td>...</td>\n",
       "      <td>...</td>\n",
       "    </tr>\n",
       "    <tr>\n",
       "      <th>10907</th>\n",
       "      <td>9/28/20</td>\n",
       "      <td>6:03 PM</td>\n",
       "      <td>Yash Arora</td>\n",
       "      <td>1 upvote tune kiya h @919997782184 ?</td>\n",
       "    </tr>\n",
       "    <tr>\n",
       "      <th>10908</th>\n",
       "      <td>9/28/20</td>\n",
       "      <td>6:21 PM</td>\n",
       "      <td>Sahil Kumar</td>\n",
       "      <td>mne</td>\n",
       "    </tr>\n",
       "    <tr>\n",
       "      <th>10909</th>\n",
       "      <td>9/28/20</td>\n",
       "      <td>6:28 PM</td>\n",
       "      <td>Yash Arora</td>\n",
       "      <td>ek notebook pe 2 vote the.. tu to ek hi de sa...</td>\n",
       "    </tr>\n",
       "    <tr>\n",
       "      <th>10910</th>\n",
       "      <td>9/28/20</td>\n",
       "      <td>6:28 PM</td>\n",
       "      <td>Yash Arora</td>\n",
       "      <td>isliye usse puchha</td>\n",
       "    </tr>\n",
       "    <tr>\n",
       "      <th>10911</th>\n",
       "      <td>9/28/20</td>\n",
       "      <td>6:29 PM</td>\n",
       "      <td>Sahil Kumar</td>\n",
       "      <td>acha</td>\n",
       "    </tr>\n",
       "  </tbody>\n",
       "</table>\n",
       "<p>10912 rows × 4 columns</p>\n",
       "</div>"
      ],
      "text/plain": [
       "          Date       Time             Name  \\\n",
       "0       5/3/20   6:16 PM       Sahil Kumar   \n",
       "1       5/3/20   6:16 PM    Abhishek Tyagi   \n",
       "2       5/3/20   6:16 PM    Abhishek Tyagi   \n",
       "3       5/3/20   6:16 PM       Sahil Kumar   \n",
       "4       5/3/20   6:16 PM       Sahil Kumar   \n",
       "...        ...        ...              ...   \n",
       "10907  9/28/20   6:03 PM        Yash Arora   \n",
       "10908  9/28/20   6:21 PM       Sahil Kumar   \n",
       "10909  9/28/20   6:28 PM        Yash Arora   \n",
       "10910  9/28/20   6:28 PM        Yash Arora   \n",
       "10911  9/28/20   6:29 PM       Sahil Kumar   \n",
       "\n",
       "                                                 Message  \n",
       "0       wse mudit ko bhaga deta wo char log wale grou...  \n",
       "1                                       soch to raha tha  \n",
       "2                 lekin ye group baato ke liye na banaya  \n",
       "3                                                   acha  \n",
       "4                           wo to us group m bhi na hoti  \n",
       "...                                                  ...  \n",
       "10907               1 upvote tune kiya h @919997782184 ?  \n",
       "10908                                                mne  \n",
       "10909   ek notebook pe 2 vote the.. tu to ek hi de sa...  \n",
       "10910                                 isliye usse puchha  \n",
       "10911                                               acha  \n",
       "\n",
       "[10912 rows x 4 columns]"
      ]
     },
     "execution_count": 14,
     "metadata": {},
     "output_type": "execute_result"
    }
   ],
   "source": [
    "chat.reset_index(inplace = True)\n",
    "chat.drop(['index'],axis=1,inplace=True)\n",
    "chat[\"Name\"] = chat[\"Name\"].str.replace(\"Urban Pendu\", \"Yash Arora\")\n",
    "chat[\"Name\"] = chat[\"Name\"].str.replace(\"Abhishek tyagi\", \"Abhishek Tyagi\")\n",
    "chat[\"Name\"] = chat[\"Name\"].str.replace(\"Sahil Dite\", \"Sahil Kumar\")\n",
    "chat[\"Name\"] = chat[\"Name\"].str.replace(\"Sidhant Dite\", \"Siddhant Jha\")\n",
    "chat"
   ]
  },
  {
   "cell_type": "code",
   "execution_count": 15,
   "metadata": {
    "execution": {
     "iopub.execute_input": "2020-09-28T20:54:10.078861Z",
     "iopub.status.busy": "2020-09-28T20:54:10.077857Z",
     "iopub.status.idle": "2020-09-28T20:54:10.082548Z",
     "shell.execute_reply": "2020-09-28T20:54:10.083138Z"
    },
    "papermill": {
     "duration": 0.051929,
     "end_time": "2020-09-28T20:54:10.083310",
     "exception": false,
     "start_time": "2020-09-28T20:54:10.031381",
     "status": "completed"
    },
    "tags": []
   },
   "outputs": [
    {
     "data": {
      "text/plain": [
       " Abhishek Tyagi    4432\n",
       " Yash Arora        3027\n",
       " Sahil Kumar       2481\n",
       " Siddhant Jha       972\n",
       "Name: Name, dtype: int64"
      ]
     },
     "execution_count": 15,
     "metadata": {},
     "output_type": "execute_result"
    }
   ],
   "source": [
    "msg_sent_per_member = chat[\"Name\"].value_counts()\n",
    "msg_sent_per_member"
   ]
  },
  {
   "cell_type": "code",
   "execution_count": 16,
   "metadata": {
    "execution": {
     "iopub.execute_input": "2020-09-28T20:54:10.160037Z",
     "iopub.status.busy": "2020-09-28T20:54:10.158914Z",
     "iopub.status.idle": "2020-09-28T20:54:10.163031Z",
     "shell.execute_reply": "2020-09-28T20:54:10.163944Z"
    },
    "papermill": {
     "duration": 0.047954,
     "end_time": "2020-09-28T20:54:10.164161",
     "exception": false,
     "start_time": "2020-09-28T20:54:10.116207",
     "status": "completed"
    },
    "tags": []
   },
   "outputs": [
    {
     "name": "stdout",
     "output_type": "stream",
     "text": [
      "8/25/20    525\n",
      "9/9/20     421\n",
      "8/23/20    411\n",
      "9/26/20    398\n",
      "7/7/20     390\n",
      "Name: Date, dtype: int64\n",
      "Number of Days in which messgaes were exchanged :  125\n"
     ]
    }
   ],
   "source": [
    "print(chat[\"Date\"].value_counts().head(5))\n",
    "print(\"Number of Days in which messgaes were exchanged : \", chat[\"Date\"].value_counts().count())"
   ]
  },
  {
   "cell_type": "code",
   "execution_count": 17,
   "metadata": {
    "execution": {
     "iopub.execute_input": "2020-09-28T20:54:10.239115Z",
     "iopub.status.busy": "2020-09-28T20:54:10.238322Z",
     "iopub.status.idle": "2020-09-28T20:54:10.248851Z",
     "shell.execute_reply": "2020-09-28T20:54:10.247929Z"
    },
    "papermill": {
     "duration": 0.049586,
     "end_time": "2020-09-28T20:54:10.249008",
     "exception": false,
     "start_time": "2020-09-28T20:54:10.199422",
     "status": "completed"
    },
    "tags": []
   },
   "outputs": [
    {
     "data": {
      "text/plain": [
       " Yash Arora        585\n",
       " Abhishek Tyagi    462\n",
       " Sahil Kumar       365\n",
       " Siddhant Jha      150\n",
       "Name: Name, dtype: int64"
      ]
     },
     "execution_count": 17,
     "metadata": {},
     "output_type": "execute_result"
    }
   ],
   "source": [
    "media_shared = chat[\"Message\"] == \"Media_Shared\"\n",
    "media = chat[media_shared]\n",
    "media[\"Name\"].value_counts()"
   ]
  },
  {
   "cell_type": "code",
   "execution_count": 18,
   "metadata": {
    "execution": {
     "iopub.execute_input": "2020-09-28T20:54:10.324256Z",
     "iopub.status.busy": "2020-09-28T20:54:10.323242Z",
     "iopub.status.idle": "2020-09-28T20:54:10.327377Z",
     "shell.execute_reply": "2020-09-28T20:54:10.328206Z"
    },
    "papermill": {
     "duration": 0.047227,
     "end_time": "2020-09-28T20:54:10.328443",
     "exception": false,
     "start_time": "2020-09-28T20:54:10.281216",
     "status": "completed"
    },
    "tags": []
   },
   "outputs": [
    {
     "data": {
      "text/plain": [
       " Abhishek Tyagi    31\n",
       " Sahil Kumar       16\n",
       " Siddhant Jha       8\n",
       "Name: Name, dtype: int64"
      ]
     },
     "execution_count": 18,
     "metadata": {},
     "output_type": "execute_result"
    }
   ],
   "source": [
    "message_deleted = chat[\"Message\"] == \"Message_Deleted\"\n",
    "deleted = chat[message_deleted]\n",
    "deleted[\"Name\"].value_counts()"
   ]
  },
  {
   "cell_type": "code",
   "execution_count": null,
   "metadata": {
    "papermill": {
     "duration": 0.034998,
     "end_time": "2020-09-28T20:54:10.399184",
     "exception": false,
     "start_time": "2020-09-28T20:54:10.364186",
     "status": "completed"
    },
    "tags": []
   },
   "outputs": [],
   "source": []
  }
 ],
 "metadata": {
  "kernelspec": {
   "display_name": "Python 3",
   "language": "python",
   "name": "python3"
  },
  "language_info": {
   "codemirror_mode": {
    "name": "ipython",
    "version": 3
   },
   "file_extension": ".py",
   "mimetype": "text/x-python",
   "name": "python",
   "nbconvert_exporter": "python",
   "pygments_lexer": "ipython3",
   "version": "3.7.6"
  },
  "papermill": {
   "duration": 6.435964,
   "end_time": "2020-09-28T20:54:10.538404",
   "environment_variables": {},
   "exception": null,
   "input_path": "__notebook__.ipynb",
   "output_path": "__notebook__.ipynb",
   "parameters": {},
   "start_time": "2020-09-28T20:54:04.102440",
   "version": "2.1.0"
  }
 },
 "nbformat": 4,
 "nbformat_minor": 4
}
